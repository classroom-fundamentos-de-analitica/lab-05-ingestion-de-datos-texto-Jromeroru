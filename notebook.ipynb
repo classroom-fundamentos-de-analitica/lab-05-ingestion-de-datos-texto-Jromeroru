{
 "cells": [
  {
   "cell_type": "code",
   "execution_count": 3,
   "metadata": {},
   "outputs": [],
   "source": [
    "import os\n",
    "import csv\n",
    "\n",
    "\n",
    "def create_csv_from_directory(directory, output_file):\n",
    "    data = []\n",
    "\n",
    "    for sentiment in [\"positive\", \"negative\", \"neutral\"]:\n",
    "        sentiment_path = os.path.join(directory, sentiment)\n",
    "        if os.path.exists(sentiment_path):\n",
    "            for filename in os.listdir(sentiment_path):\n",
    "                if filename.endswith(\".txt\"):\n",
    "                    file_path = os.path.join(sentiment_path, filename)\n",
    "                    with open(file_path, \"r\", encoding=\"utf-8\") as file:\n",
    "                        phrase = file.read().strip()\n",
    "                        data.append([phrase, sentiment])\n",
    "\n",
    "    with open(output_file, \"w\", newline=\"\", encoding=\"utf-8\") as csvfile:\n",
    "        writer = csv.writer(csvfile)\n",
    "        writer.writerow([\"phrase\", \"sentiment\"])\n",
    "        writer.writerows(data)\n",
    "\n",
    "\n",
    "create_csv_from_directory(\"data/train\", \"train_dataset.csv\")\n",
    "\n",
    "create_csv_from_directory(\"data/test\", \"test_dataset.csv\")"
   ]
  }
 ],
 "metadata": {
  "kernelspec": {
   "display_name": "Python 3",
   "language": "python",
   "name": "python3"
  },
  "language_info": {
   "codemirror_mode": {
    "name": "ipython",
    "version": 3
   },
   "file_extension": ".py",
   "mimetype": "text/x-python",
   "name": "python",
   "nbconvert_exporter": "python",
   "pygments_lexer": "ipython3",
   "version": "3.12.2"
  }
 },
 "nbformat": 4,
 "nbformat_minor": 2
}
